{
 "cells": [
  {
   "attachments": {},
   "cell_type": "markdown",
   "metadata": {},
   "source": [
    "# 1. Introduction\n",
    "\n",
    "**Hacktiv8 - Final Project**\n",
    "\n",
    "**Batch RMT-038**\n",
    "\n",
    "**Team Members**\n",
    "- Julita G. Ariana, Data Scientist\n",
    "- Niko A. Hakam, Data Scientist\n",
    "- Nisrina Tsany S, Data Analyst\n",
    "- Ryan Dionenatan, Data Engineer\n",
    "- Verren Monica, Data Analyst\n",
    "\n",
    "**About The Project**\n",
    "\n",
    "Notebook ini berisikan inference proyek ExpedAnalysis dari modeling dengan LDA sebelumnya yang sudah di clustering dan dipisahkan topiknya terkait review bagus dan jelek dari 3 kurir ekspedisi mulai dari JNE, JNT, dan SiCepat yang ada di setiap perwakilan kota di 38 provinsi di Indonesia."
   ]
  },
  {
   "attachments": {},
   "cell_type": "markdown",
   "metadata": {},
   "source": [
    "# 2. Import Libraries"
   ]
  },
  {
   "cell_type": "code",
   "execution_count": 1,
   "metadata": {},
   "outputs": [],
   "source": [
    "# import required libraries\n",
    "import pandas as pd\n",
    "\n",
    "from gensim.models import LdaModel\n",
    "from gensim.corpora import Dictionary\n",
    "import pickle\n",
    "\n",
    "from nltk.tokenize import word_tokenize\n",
    "\n",
    "# from custom script in this dir\n",
    "from prepro_script import text_preprocessing_id"
   ]
  },
  {
   "attachments": {},
   "cell_type": "markdown",
   "metadata": {},
   "source": [
    "# 3. Model Inference "
   ]
  },
  {
   "attachments": {},
   "cell_type": "markdown",
   "metadata": {},
   "source": [
    "Karena sebelumnya terdapat 2 model yaitu untuk jelek_modeling dan bagus_modeling maka inference ini dibagi menjadi dua bagian."
   ]
  },
  {
   "attachments": {},
   "cell_type": "markdown",
   "metadata": {},
   "source": [
    "## 3.1. Jelek Modeling"
   ]
  },
  {
   "cell_type": "code",
   "execution_count": 2,
   "metadata": {},
   "outputs": [
    {
     "name": "stdout",
     "output_type": "stream",
     "text": [
      "Model, dictionary, and corpus loaded successfully.\n"
     ]
    }
   ],
   "source": [
    "# Load the saved LDA model\n",
    "jelek_lda_model = LdaModel.load('jelek_lda_model.model')\n",
    "\n",
    "# Load the dictionary\n",
    "jelek_dictionary = Dictionary.load('jelek_lda_dictionary.dict')\n",
    "\n",
    "# Load the corpus (optional, for validation purposes)\n",
    "with open('jelek_lda_corpus.pkl', 'rb') as f_jelek:\n",
    "    jelek_corpus = pickle.load(f_jelek)\n",
    "\n",
    "print(\"Model, dictionary, and corpus loaded successfully.\")"
   ]
  },
  {
   "cell_type": "code",
   "execution_count": 3,
   "metadata": {},
   "outputs": [],
   "source": [
    "# Memetakan ID topik \n",
    "jelek_topic_labels = {\n",
    "    0: \"Pelayan Buruk\",\n",
    "    1: \"Delay / Lambat\",\n",
    "    2: \"Miskomunikasi Kurir\"\n",
    "}"
   ]
  },
  {
   "attachments": {},
   "cell_type": "markdown",
   "metadata": {},
   "source": [
    "Dictionary yang memetakan ID topik ke nama deskriptif seperti \"Pelayan Buruk\", \"Delay / Lambat\", dan \"Miskomunikasi Kurir\"."
   ]
  },
  {
   "attachments": {},
   "cell_type": "markdown",
   "metadata": {},
   "source": [
    "### 3.1.1. Single Inference"
   ]
  },
  {
   "cell_type": "code",
   "execution_count": 4,
   "metadata": {},
   "outputs": [],
   "source": [
    "# New data of Single review\n",
    "jelek_new_review = \"Paket saya terlambat dan layanan buruk sekali.\""
   ]
  },
  {
   "cell_type": "code",
   "execution_count": 5,
   "metadata": {},
   "outputs": [],
   "source": [
    "# Preprocess the review\n",
    "jelek_processed_review = await text_preprocessing_id(jelek_new_review)"
   ]
  },
  {
   "attachments": {},
   "cell_type": "markdown",
   "metadata": {},
   "source": [
    "Ulasan diproses menggunakan fungsi text_preprocessing_id untuk menghasilkan teks yang telah dibersihkan."
   ]
  },
  {
   "cell_type": "code",
   "execution_count": 6,
   "metadata": {},
   "outputs": [
    {
     "name": "stdout",
     "output_type": "stream",
     "text": [
      "Review : Paket saya terlambat dan layanan buruk sekali.\n",
      "Processed Review: lambat buruk\n",
      "\n",
      "Inferred Topics with Labels:\n",
      "  Pelayan Buruk: 35.21%\n",
      "  Delay / Lambat: 47.88%\n",
      "  Miskomunikasi Kurir: 16.91%\n"
     ]
    }
   ],
   "source": [
    "# Convert to Bag of Words\n",
    "bow_vector = jelek_dictionary.doc2bow(jelek_processed_review.split())\n",
    "\n",
    "# Get topic distribution with labels\n",
    "topics = jelek_lda_model.get_document_topics(bow_vector, minimum_probability=0.0)\n",
    "\n",
    "# Display topics with labels\n",
    "print(f\"Review : {jelek_new_review}\")\n",
    "print(f\"Processed Review: {jelek_processed_review}\")\n",
    "print()\n",
    "print(\"Infered Topics with Labels:\")\n",
    "for topic_id, prob in topics:\n",
    "    print(f\"  {jelek_topic_labels[topic_id]}: {prob:.2%}\")"
   ]
  },
  {
   "attachments": {},
   "cell_type": "markdown",
   "metadata": {},
   "source": [
    "Single review inference untuk review jelek ini berhasil dilakukan untuk clustering topic nya. Dimana berdasarkan hasil inference ini, ulasan dari data baru ini paling relevan dengan topik Pelayan Buruk, tetapi juga memiliki keterkaitan yang cukup tinggi dengan topik Delay / Lambat. Hal ini memberikan gambaran bahwa masalah layanan pelanggan dan waktu pengiriman menjadi perhatian utama dalam ulasan ini."
   ]
  },
  {
   "attachments": {},
   "cell_type": "markdown",
   "metadata": {},
   "source": [
    "### 3.1.2 Batch Inference"
   ]
  },
  {
   "attachments": {},
   "cell_type": "markdown",
   "metadata": {},
   "source": [
    "Lalu, dilakukan percobaan untuk melakukan batch inference pada beberapa ulasan baru sekaligus menggunakan model Latent Dirichlet Allocation (LDA) yang telah dibuat untuk mengidentifikasi topik utama dari setiap ulasan berdasarkan distribusi probabilitasnya untuk review jelek."
   ]
  },
  {
   "cell_type": "code",
   "execution_count": 7,
   "metadata": {},
   "outputs": [],
   "source": [
    "# batch reviews\n",
    "jelek_new_reviews = [\n",
    "    \"Paket saya terlambat dan layanan buruk sekali.\",\n",
    "    \"Opo toh iki cok. Bangsat. Barangku katut ndi cok. Kntl. Bubar ae. Gak guna!\",\n",
    "    \"Kurir sangat tidak sopan dang ngawur. Masak iya kirim tv di taruh di luar pagar rumah. Mengecewakan!\",\n",
    "    \"JNE pungo, hana utak, hanjeut meupike gob rugo, lage bui…😂😂😂\",\n",
    "    \"\"\"Dima kendala sanak.....lamo bana paket ko..\n",
    "    Jauh bana simpang haru ko....dari pagi tadi lai....baru jam 12 ba anta paket....sampai kini nda juo tibo2 ala jam 2 lewat lo\n",
    "    Deh mande mak oi.......\"\"\",\n",
    "    \"\"\"Ndk sasuai jo namo, paket berhari2 di padang ndk dikirim ka ulak karang, sicepat a namoe tu\n",
    "    Ancak tutuik se lai\"\"\",\n",
    "    \"Iko cocok namonyo diganti jadi SI PANTEK, alamat alah jaleh bakecekan bad adress, sudah tu barang di return baliak, eee kapunduang\"\n",
    "]"
   ]
  },
  {
   "cell_type": "code",
   "execution_count": 8,
   "metadata": {},
   "outputs": [
    {
     "name": "stdout",
     "output_type": "stream",
     "text": [
      "Review: Paket saya terlambat dan layanan buruk sekali.\n",
      "Processed Review : lambat buruk\n",
      "Inferred Topics with Labels:\n",
      "  Pelayan Buruk: 35.21%\n",
      "  Delay / Lambat: 47.88%\n",
      "  Miskomunikasi Kurir: 16.91%\n",
      "\n",
      "Review: Opo toh iki cok. Bangsat. Barangku katut ndi cok. Kntl. Bubar ae. Gak guna!\n",
      "Processed Review : barang bagus bubar guna\n",
      "Inferred Topics with Labels:\n",
      "  Pelayan Buruk: 19.24%\n",
      "  Delay / Lambat: 57.63%\n",
      "  Miskomunikasi Kurir: 23.13%\n",
      "\n",
      "Review: Kurir sangat tidak sopan dang ngawur. Masak iya kirim tv di taruh di luar pagar rumah. Mengecewakan!\n",
      "Processed Review : sopan dang sembarang masak tv taruh pagar rumah kecewa\n",
      "Inferred Topics with Labels:\n",
      "  Pelayan Buruk: 20.61%\n",
      "  Delay / Lambat: 35.18%\n",
      "  Miskomunikasi Kurir: 44.20%\n",
      "\n",
      "Review: JNE pungo, hana utak, hanjeut meupike gob rugo, lage bui…😂😂😂\n",
      "Processed Review : otak mikir orang kalah kaya narapidana\n",
      "Inferred Topics with Labels:\n",
      "  Pelayan Buruk: 26.10%\n",
      "  Delay / Lambat: 44.19%\n",
      "  Miskomunikasi Kurir: 29.71%\n",
      "\n",
      "Review: Dima kendala sanak.....lamo bana paket ko..\n",
      "    Jauh bana simpang haru ko....dari pagi tadi lai....baru jam 12 ba anta paket....sampai kini nda juo tibo2 ala jam 2 lewat lo\n",
      "    Deh mande mak oi.......\n",
      "Processed Review : di mana kendala lambat simpang pagi antar mande oi\n",
      "Inferred Topics with Labels:\n",
      "  Pelayan Buruk: 20.86%\n",
      "  Delay / Lambat: 48.63%\n",
      "  Miskomunikasi Kurir: 30.51%\n",
      "\n",
      "Review: Ndk sasuai jo namo, paket berhari2 di padang ndk dikirim ka ulak karang, sicepat a namoe tu\n",
      "    Ancak tutuik se lai\n",
      "Processed Review : sesuai nama hari lapang kirim terumbu karang a namoe tu tutup\n",
      "Inferred Topics with Labels:\n",
      "  Pelayan Buruk: 20.82%\n",
      "  Delay / Lambat: 55.58%\n",
      "  Miskomunikasi Kurir: 23.60%\n",
      "\n",
      "Review: Iko cocok namonyo diganti jadi SI PANTEK, alamat alah jaleh bakecekan bad adress, sudah tu barang di return baliak, eee kapunduang\n",
      "Processed Review : cocok nama ganti alamat buruk kembali e kapunduang\n",
      "Inferred Topics with Labels:\n",
      "  Pelayan Buruk: 36.99%\n",
      "  Delay / Lambat: 44.97%\n",
      "  Miskomunikasi Kurir: 18.04%\n",
      "\n"
     ]
    }
   ],
   "source": [
    "for review in jelek_new_reviews:\n",
    "    processed_review = await text_preprocessing_id(review)\n",
    "    bow_vector = jelek_dictionary.doc2bow(processed_review.split())\n",
    "    topics = jelek_lda_model.get_document_topics(bow_vector, minimum_probability=0.0)\n",
    "    print(f\"Review: {review}\")\n",
    "    print(f\"Processed Review : {processed_review}\")\n",
    "    print(\"Inferred Topics with Labels:\")\n",
    "    for topic_id, prob in topics:\n",
    "        print(f\"  {jelek_topic_labels[topic_id]}: {prob:.2%}\")\n",
    "    print()"
   ]
  },
  {
   "attachments": {},
   "cell_type": "markdown",
   "metadata": {},
   "source": [
    "- Topik Dominan: Sebagian besar ulasan terkait dengan Delay / Lambat, menunjukkan bahwa keterlambatan pengiriman adalah keluhan utama dalam batch ulasan ini.\n",
    "- Topik Pendukung: Ada keluhan tambahan tentang Pelayan Buruk dan Miskomunikasi Kurir, yang mengindikasikan masalah terkait layanan pelanggan dan komunikasi kurir.\n",
    "\n",
    "> Proses batch inference ini membantu untuk menganalisis tema utama dalam banyak ulasan sekaligus, memberikan gambaran menyeluruh tentang area yang perlu diperbaiki."
   ]
  },
  {
   "attachments": {},
   "cell_type": "markdown",
   "metadata": {},
   "source": [
    "## 3.2. Bagus Modeling"
   ]
  },
  {
   "cell_type": "code",
   "execution_count": 9,
   "metadata": {},
   "outputs": [
    {
     "name": "stdout",
     "output_type": "stream",
     "text": [
      "Model, dictionary, and corpus loaded successfully.\n"
     ]
    }
   ],
   "source": [
    "# Load the saved LDA model\n",
    "bagus_lda_model = LdaModel.load('bagus_lda_model.model')\n",
    "\n",
    "# Load the dictionary\n",
    "bagus_dictionary = Dictionary.load('bagus_lda_dictionary.dict')\n",
    "\n",
    "# Load the corpus (optional, for validation purposes)\n",
    "with open('bagus_lda_corpus.pkl', 'rb') as f_bagus:\n",
    "    bagus_corpus = pickle.load(f_bagus)\n",
    "\n",
    "print(\"Model, dictionary, and corpus loaded successfully.\")"
   ]
  },
  {
   "attachments": {},
   "cell_type": "markdown",
   "metadata": {},
   "source": [
    "Memberikan label deskriptif pada topik yang dihasilkan oleh model LDA dalam dataset ulasan bagus. Dengan memetakan ID topik (0, 1, 2) ke label seperti \"Pelayan Bagus\", \"Kantor Cabang\", dan \"Respon Staff\", proses ini memudahkan interpretasi hasil analisis topik."
   ]
  },
  {
   "cell_type": "code",
   "execution_count": 10,
   "metadata": {},
   "outputs": [],
   "source": [
    "# Memetakan ID topik\n",
    "bagus_topic_labels = {\n",
    "    0: \"Pelayan Bagus\",\n",
    "    1: \"Kantor Cabang\",\n",
    "    2: \"Respon Staff\"\n",
    "}"
   ]
  },
  {
   "attachments": {},
   "cell_type": "markdown",
   "metadata": {},
   "source": [
    "### 3.2.1. Single Inference"
   ]
  },
  {
   "cell_type": "code",
   "execution_count": 11,
   "metadata": {},
   "outputs": [],
   "source": [
    "# Single review\n",
    "bagus_new_review = \"Tempat bersih, petugas ramah,lokasi yg strategis.\""
   ]
  },
  {
   "cell_type": "code",
   "execution_count": 12,
   "metadata": {},
   "outputs": [],
   "source": [
    "# Preprocess the review\n",
    "bagus_processed_review = await text_preprocessing_id(bagus_new_review)"
   ]
  },
  {
   "cell_type": "code",
   "execution_count": 13,
   "metadata": {},
   "outputs": [
    {
     "name": "stdout",
     "output_type": "stream",
     "text": [
      "Review : Tempat bersih, petugas ramah,lokasi yg strategis.\n",
      "Processed Review: bersih tugas ramah lokasi strategis\n",
      "\n",
      "Inferred Topics with Labels:\n",
      "  Pelayan Bagus: 84.50%\n",
      "  Kantor Cabang: 6.77%\n",
      "  Respon Staff: 8.73%\n"
     ]
    }
   ],
   "source": [
    "# Convert to Bag of Words\n",
    "bow_vector = bagus_dictionary.doc2bow(bagus_processed_review.split())\n",
    "\n",
    "# Get topic distribution with labels\n",
    "topics = bagus_lda_model.get_document_topics(bow_vector, minimum_probability=0.0)\n",
    "\n",
    "# Display topics with labels\n",
    "print(f\"Review : {bagus_new_review}\")\n",
    "print(f\"Processed Review: {bagus_processed_review}\")\n",
    "print()\n",
    "print(\"Inferred Topics with Labels:\")\n",
    "for topic_id, prob in topics:\n",
    "    print(f\"  {bagus_topic_labels[topic_id]}: {prob:.2%}\")"
   ]
  },
  {
   "attachments": {},
   "cell_type": "markdown",
   "metadata": {},
   "source": [
    "Model inference untuk single data dari dataset ulasan bagus ini sudah berhasil. Ulasan ini mayoritas terkait dengan topik Pelayan Bagus, mencerminkan kepuasan pelanggan terhadap aspek pelayanan, lokasi, dan sikap staf. Hal ini menunjukkan keberhasilan perusahaan dalam memberikan pengalaman positif bagi pelanggan."
   ]
  },
  {
   "attachments": {},
   "cell_type": "markdown",
   "metadata": {},
   "source": [
    "### 3.2.2. Batch Inference"
   ]
  },
  {
   "cell_type": "code",
   "execution_count": 14,
   "metadata": {},
   "outputs": [],
   "source": [
    "# batch reviews\n",
    "bagus_new_reviews = [\n",
    "    \"pelayanan kantornya sih oke, kalo servis jne sendiri sudah relatif bagus, cuma kalo pas overload ya bisa molor, tapi masih batas wajar. Still the best lah\",\n",
    "    \"Pelayanan bagus,. Pengambilan paket juga tidak ribet,. Top pokok e!\",\n",
    "    \"Kalau pulang kantor selalu ngelewatin  kantor jne garuda.  Karena letaknya dekat dengan stasiun kemayoran,  di jalan garuda byk macam macam kuliner apalagi pempeknya banyak yg jualan dan endes banget.  Kalau pas pulang malam,  kadang mampir di ayam gepuk depan kantor jne nya.  Meskipun bilang ga pedes tapi itunterasa pedas 😂 …\",\n",
    "    \"Lokasi gudangnya strategis, gampang dicari. Petugas securitynya satset.\",\n",
    "    \"Banyak2 be urut dada ja sanak brataan nae,, rata2 klw kalsel pake reg yg belanja dilazada yg pake ongkir gratis,,,paling cepat seminggu q,, aku pke yes 3 hari sampai kerumah\",\n",
    "    \"\"\"JNT Pusat Jambi. Dekat dari Pasar sehingga gak banyak makan waktu untuk ke lokasi. Kalo ada pengiriman barang sering pakai jasa ini. Paket cepat sampai dan amanah. Lokasi parkiran luas, bersih, dan yang terpenting GRATIS !\n",
    "        Semoga JNT makin sukses ke depannya dan makin menambah lapangan kerja. Aamiin\"\"\",\n",
    "    \"Layanan bagus, ruangan sangat nyaman, menyediakan tempat bermain untuk anak. Lokasi mudah ditemukan. Parkiran kendaraan lumayan luas. Overall sangat direkomendasikan...\",\n",
    "    \"004207447425 dari tgl 20 Mei barang udah nyampe di gudang,tapi sampai hari ini 23 Mei belum di antar.... tolong dong barang itu sangat di butuhkan\",\n",
    "    \"The waiting area is spacious and comfortable. Fast and friendly service\"\n",
    "]"
   ]
  },
  {
   "cell_type": "code",
   "execution_count": 15,
   "metadata": {},
   "outputs": [
    {
     "name": "stdout",
     "output_type": "stream",
     "text": [
      "Review: pelayanan kantornya sih oke, kalo servis jne sendiri sudah relatif bagus, cuma kalo pas overload ya bisa molor, tapi masih batas wajar. Still the best lah\n",
      "Processed Review : layan kantor servis relatif bagus pas overload molor batas wajar \n",
      "Inferred Topics with Labels:\n",
      "  Pelayan Bagus: 88.29%\n",
      "  Kantor Cabang: 5.00%\n",
      "  Respon Staff: 6.72%\n",
      "\n",
      "Review: Pelayanan bagus,. Pengambilan paket juga tidak ribet,. Top pokok e!\n",
      "Processed Review : layan bagus ambil ribet e\n",
      "Inferred Topics with Labels:\n",
      "  Pelayan Bagus: 75.45%\n",
      "  Kantor Cabang: 6.79%\n",
      "  Respon Staff: 17.76%\n",
      "\n",
      "Review: Kalau pulang kantor selalu ngelewatin  kantor jne garuda.  Karena letaknya dekat dengan stasiun kemayoran,  di jalan garuda byk macam macam kuliner apalagi pempeknya banyak yg jualan dan endes banget.  Kalau pas pulang malam,  kadang mampir di ayam gepuk depan kantor jne nya.  Meskipun bilang ga pedes tapi itunterasa pedas 😂 …\n",
      "Processed Review : pulang kantor ngelewatin kantor garuda letak stasiun mayor jalan garuda kuliner pempek jual endes pas pulang malam kadang mampir ayam gepuk kantor bilang pedes itunterasa pedas\n",
      "Inferred Topics with Labels:\n",
      "  Pelayan Bagus: 79.12%\n",
      "  Kantor Cabang: 15.30%\n",
      "  Respon Staff: 5.58%\n",
      "\n",
      "Review: Lokasi gudangnya strategis, gampang dicari. Petugas securitynya satset.\n",
      "Processed Review : lokasi gudang strategis gampang cari tugas securitynya satset\n",
      "Inferred Topics with Labels:\n",
      "  Pelayan Bagus: 60.91%\n",
      "  Kantor Cabang: 6.22%\n",
      "  Respon Staff: 32.88%\n",
      "\n",
      "Review: Banyak2 be urut dada ja sanak brataan nae,, rata2 klw kalsel pake reg yg belanja dilazada yg pake ongkir gratis,,,paling cepat seminggu q,, aku pke yes 3 hari sampai kerumah\n",
      "Processed Review : be urut dada sanak brata nae kalsel pakai register belanja dilazada pakai ongkir gratis cepat minggu pke yes rumah\n",
      "Inferred Topics with Labels:\n",
      "  Pelayan Bagus: 52.05%\n",
      "  Kantor Cabang: 23.41%\n",
      "  Respon Staff: 24.55%\n",
      "\n",
      "Review: JNT Pusat Jambi. Dekat dari Pasar sehingga gak banyak makan waktu untuk ke lokasi. Kalo ada pengiriman barang sering pakai jasa ini. Paket cepat sampai dan amanah. Lokasi parkiran luas, bersih, dan yang terpenting GRATIS !\n",
      "        Semoga JNT makin sukses ke depannya dan makin menambah lapangan kerja. Aamiin\n",
      "Processed Review : pusat pasar makan waktu lokasi kirim pakai jasa cepat amanah lokasi parkir luas bersih penting gratis moga sukses depan tambah lapang kerja aamiin\n",
      "Inferred Topics with Labels:\n",
      "  Pelayan Bagus: 73.14%\n",
      "  Kantor Cabang: 7.00%\n",
      "  Respon Staff: 19.86%\n",
      "\n",
      "Review: Layanan bagus, ruangan sangat nyaman, menyediakan tempat bermain untuk anak. Lokasi mudah ditemukan. Parkiran kendaraan lumayan luas. Overall sangat direkomendasikan...\n",
      "Processed Review : bagus ruang nyaman sedia main anak lokasi mudah temu parkir kendara luas overall rekomendasi\n",
      "Inferred Topics with Labels:\n",
      "  Pelayan Bagus: 67.01%\n",
      "  Kantor Cabang: 8.71%\n",
      "  Respon Staff: 24.28%\n",
      "\n",
      "Review: 004207447425 dari tgl 20 Mei barang udah nyampe di gudang,tapi sampai hari ini 23 Mei belum di antar.... tolong dong barang itu sangat di butuhkan\n",
      "Processed Review : mei mei  butuh\n",
      "Inferred Topics with Labels:\n",
      "  Pelayan Bagus: 75.72%\n",
      "  Kantor Cabang: 10.61%\n",
      "  Respon Staff: 13.67%\n",
      "\n",
      "Review: The waiting area is spacious and comfortable. Fast and friendly service\n",
      "Processed Review : ruang tunggu luas nyaman layan cepat ramah\n",
      "Inferred Topics with Labels:\n",
      "  Pelayan Bagus: 73.35%\n",
      "  Kantor Cabang: 5.73%\n",
      "  Respon Staff: 20.92%\n",
      "\n"
     ]
    }
   ],
   "source": [
    "for review in bagus_new_reviews:\n",
    "    processed_review = await text_preprocessing_id(review)\n",
    "    bow_vector = bagus_dictionary.doc2bow(processed_review.split())\n",
    "    topics = bagus_lda_model.get_document_topics(bow_vector, minimum_probability=0.0)\n",
    "    print(f\"Review: {review}\")\n",
    "    print(f\"Processed Review : {processed_review}\")\n",
    "    print(\"Inferred Topics with Labels:\")\n",
    "    for topic_id, prob in topics:\n",
    "        print(f\"  {bagus_topic_labels[topic_id]}: {prob:.2%}\")\n",
    "    print()"
   ]
  },
  {
   "attachments": {},
   "cell_type": "markdown",
   "metadata": {},
   "source": [
    "Ketika data yang di inference merupakan batch pun berhasil dilakukan dengan baik dimana didapatkan:\n",
    "- Topik Dominan: Pelayan Bagus menjadi topik utama di hampir semua ulasan, dengan probabilitas di atas 50%, mencerminkan apresiasi pelanggan terhadap kualitas pelayanan perusahaan.\n",
    "- Topik Pendukung:\n",
    "    - Respon Staff: Menonjol pada ulasan yang menyebutkan interaksi langsung dengan staf atau keamanan.\n",
    "    - Kantor Cabang: Mendapat perhatian dalam ulasan yang menyebutkan lokasi atau fasilitas kantor.\n",
    "- Apresiasi: Sebagian besar ulasan menyoroti pelayanan baik, lokasi strategis, dan kenyamanan fasilitas sebagai aspek utama yang memuaskan pelanggan"
   ]
  }
 ],
 "metadata": {
  "kernelspec": {
   "display_name": "base",
   "language": "python",
   "name": "python3"
  },
  "language_info": {
   "codemirror_mode": {
    "name": "ipython",
    "version": 3
   },
   "file_extension": ".py",
   "mimetype": "text/x-python",
   "name": "python",
   "nbconvert_exporter": "python",
   "pygments_lexer": "ipython3",
   "version": "3.9.19"
  }
 },
 "nbformat": 4,
 "nbformat_minor": 2
}
